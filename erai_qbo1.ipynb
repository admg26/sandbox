{
 "cells": [
  {
   "cell_type": "code",
   "execution_count": 1,
   "metadata": {},
   "outputs": [],
   "source": [
    "%matplotlib ipympl"
   ]
  },
  {
   "cell_type": "code",
   "execution_count": 2,
   "metadata": {},
   "outputs": [],
   "source": [
    "import pylab as pyl\n",
    "import pygeode as pyg\n",
    "from pygeode import timeutils as tu\n",
    "import re\n",
    "import numpy as np\n",
    "import matplotlib.pyplot as plt\n",
    "from matplotlib.colors import LinearSegmentedColormap\n",
    "from datetime import datetime\n",
    "import h5py\n",
    "import scipy.io\n",
    "import scipy.signal\n",
    "import scipy.stats"
   ]
  },
  {
   "cell_type": "code",
   "execution_count": 3,
   "metadata": {},
   "outputs": [],
   "source": [
    "import plt_helpers as plth"
   ]
  },
  {
   "cell_type": "code",
   "execution_count": 4,
   "metadata": {},
   "outputs": [],
   "source": [
    "f = h5py.File('/data/athena/adk33/dotmat/erai_divF_daily_all_1979_2016.mat','r')\n",
    "eraiT = np.array(f.get('T')) \n",
    "eraiu = np.array(f.get('u'))\n",
    "erailat = np.array(f.get('lat')) \n",
    "eraip = np.array(f.get('p')) \n",
    "f.close()"
   ]
  },
  {
   "cell_type": "code",
   "execution_count": 5,
   "metadata": {},
   "outputs": [],
   "source": [
    "erai_pres = pyg.Pres(eraip[0,:]/100.0)\n",
    "erai_time =pyg.ModelTime365(values=np.arange(38*365), units = 'days', startdate=dict(year=1979, month=1, day=1))\n",
    "erai_lat = pyg.Lat(erailat[0,:]*180.0/np.pi)"
   ]
  },
  {
   "cell_type": "code",
   "execution_count": 6,
   "metadata": {},
   "outputs": [],
   "source": [
    "erai_T = pyg.Var([erai_time, erai_pres, erai_lat], name='erai T', values=np.reshape(eraiT, [len(erai_time), len(erai_pres), len(erai_lat)]))\n",
    "erai_u = pyg.Var([erai_time, erai_pres, erai_lat], name='erai u', values=np.reshape(eraiu, [len(erai_time), len(erai_pres), len(erai_lat)]))"
   ]
  },
  {
   "cell_type": "code",
   "execution_count": 51,
   "metadata": {},
   "outputs": [
    {
     "name": "stderr",
     "output_type": "stream",
     "text": [
      "/home/adk33/aether/share/minconda3/envs/pyg3/lib/python3.6/site-packages/pygeode-1.3.0rc2-py3.6-linux-x86_64.egg/pygeode/formats/cfmeta.py:136: UserWarning: renaming 'erai T' to 'erai_T'\n",
      "  warn (\"renaming '%s' to '%s'\"%(oldname,newname))\n",
      "/home/adk33/aether/share/minconda3/envs/pyg3/lib/python3.6/site-packages/pygeode-1.3.0rc2-py3.6-linux-x86_64.egg/pygeode/formats/cfmeta.py:136: UserWarning: renaming 'erai u' to 'erai_u'\n",
      "  warn (\"renaming '%s' to '%s'\"%(oldname,newname))\n",
      "/home/adk33/aether/share/minconda3/envs/pyg3/lib/python3.6/site-packages/pygeode-1.3.0rc2-py3.6-linux-x86_64.egg/pygeode/formats/netcdf4.py:112: UserWarning: endian-ness of dtype and endian kwarg do not match, using endian kwarg\n",
      "  v = ncfile.createVariable(var.name, datatype=var.dtype, dimensions=dimensions, zlib=compress, fill_value=var.atts.get('_FillValue',None))\n"
     ]
    }
   ],
   "source": [
    "pyg.save('erai_u_T.nc', pyg.Dataset([erai_T(pres=(67,96)),erai_u(pres=(67,96))]), format='netcdf4')"
   ]
  },
  {
   "cell_type": "code",
   "execution_count": 52,
   "metadata": {},
   "outputs": [
    {
     "name": "stdout",
     "output_type": "stream",
     "text": [
      "<Dataset>:\n",
      "Vars:\n",
      "  erai_T (time,pres,lat)  (13870,2,179)\n",
      "  erai_u (time,pres,lat)  (13870,2,179)\n",
      "Axes:\n",
      "  time <ModelTime365>:  Jan 1, 1979 00:00:00 to Dec 31, 2016 00:00:00 (13870 values)\n",
      "  pres <Pres>    :  80 hPa to 96 hPa (2 values)\n",
      "  lat <Lat>      :  89 N to 89 S (179 values)\n",
      "Global Attributes:\n",
      "  {}\n"
     ]
    }
   ],
   "source": [
    "erai = pyg.open('erai_u_T.nc')\n",
    "era"
   ]
  },
  {
   "cell_type": "code",
   "execution_count": 7,
   "metadata": {},
   "outputs": [],
   "source": [
    "du_dz = erai_u.deriv(erai_u.pres, dx=pyg.log(erai_pres))"
   ]
  },
  {
   "cell_type": "code",
   "execution_count": 11,
   "metadata": {},
   "outputs": [
    {
     "name": "stderr",
     "output_type": "stream",
     "text": [
      "/home/adk33/aether/share/minconda3/envs/pyg3/lib/python3.6/site-packages/pygeode-1.3.0rc2-py3.6-linux-x86_64.egg/pygeode/timeutils.py:20: FutureWarning: arrays to stack must be passed as a \"sequence\" type such as list or tuple. Support for non-sequence iterables such as generators is deprecated as of NumPy 1.16 and will raise an error in the future.\n",
      "  in_atts = np.vstack(f[S] for f in fields).transpose()\n"
     ]
    }
   ],
   "source": [
    "dT = erai_T - pyg.climatology(erai_T)\n",
    "T_series = dT.squeeze()\n",
    "du_dz_series = du_dz.squeeze()\n",
    "#T_du_dz_corr = pyg.regress(T_series, du_dz_series, axes=[T_series.time,], output='m')"
   ]
  },
  {
   "cell_type": "code",
   "execution_count": 12,
   "metadata": {},
   "outputs": [],
   "source": [
    "slope_T_dudz = np.zeros([len(erai_T.lat[:]),2])\n",
    "rvalue_T_dudz = np.zeros([len(erai_T.lat[:]),2])\n",
    "pres_p = 67\n",
    "i_p=0\n",
    "for i_lat in range(len(erai_T.lat[:])):\n",
    "    slope, intercept, r_value, p_value, std_err = scipy.stats.linregress(T_series(i_lat=i_lat, pres=pres_p).squeeze()[:], du_dz_series(lat=0, pres=pres_p).squeeze()[:])\n",
    "    slope_T_dudz[i_lat,i_p] = slope\n",
    "    rvalue_T_dudz[i_lat,i_p] = r_value\n",
    "    \n",
    "pres_p = 90\n",
    "i_p=1\n",
    "for i_lat in range(len(erai_T.lat[:])):\n",
    "    slope, intercept, r_value, p_value, std_err = scipy.stats.linregress(T_series(i_lat=i_lat, pres=pres_p).squeeze()[:], du_dz_series(lat=0, pres=pres_p).squeeze()[:])\n",
    "    slope_T_dudz[i_lat,i_p] = slope\n",
    "    rvalue_T_dudz[i_lat,i_p] = r_value"
   ]
  },
  {
   "cell_type": "code",
   "execution_count": 13,
   "metadata": {},
   "outputs": [],
   "source": [
    "slope_var = pyg.Var([erai_lat, pyg.Pres([67,96])], values = slope_T_dudz, name='slope')\n",
    "rvalue_var = pyg.Var([erai_lat, pyg.Pres([67,96])], values = rvalue_T_dudz, name='r value')"
   ]
  },
  {
   "cell_type": "code",
   "execution_count": 40,
   "metadata": {
    "collapsed": true,
    "jupyter": {
     "outputs_hidden": true
    }
   },
   "outputs": [
    {
     "name": "stdout",
     "output_type": "stream",
     "text": [
      "0 89.0\n",
      "1 87.99999999999999\n",
      "2 87.0\n",
      "3 86.0\n",
      "4 85.0\n",
      "5 84.0\n",
      "6 83.00000000000001\n",
      "7 82.0\n",
      "8 81.0\n",
      "9 80.0\n",
      "10 79.0\n",
      "11 78.0\n",
      "12 77.00000000000001\n",
      "13 76.0\n",
      "14 75.00000000000001\n",
      "15 74.0\n",
      "16 73.0\n",
      "17 72.0\n",
      "18 71.0\n",
      "19 70.0\n",
      "20 68.99999999999999\n",
      "21 68.0\n",
      "22 66.99999999999999\n",
      "23 66.0\n",
      "24 65.0\n",
      "25 64.0\n",
      "26 63.0\n",
      "27 62.0\n",
      "28 61.0\n",
      "29 59.99999999999999\n",
      "30 59.0\n",
      "31 58.0\n",
      "32 57.0\n",
      "33 56.0\n",
      "34 55.0\n",
      "35 54.0\n",
      "36 53.0\n",
      "37 52.00000000000001\n",
      "38 51.0\n",
      "39 50.0\n",
      "40 49.0\n",
      "41 48.0\n",
      "42 47.0\n",
      "43 46.0\n",
      "44 45.0\n",
      "45 43.99999999999999\n",
      "46 43.0\n",
      "47 42.0\n",
      "48 41.0\n",
      "49 40.0\n",
      "50 39.0\n",
      "51 38.0\n",
      "52 37.0\n",
      "53 36.0\n",
      "54 35.0\n",
      "55 34.0\n",
      "56 33.0\n",
      "57 32.0\n",
      "58 31.0\n",
      "59 29.999999999999996\n",
      "60 29.0\n",
      "61 28.0\n",
      "62 27.0\n",
      "63 26.000000000000004\n",
      "64 25.0\n",
      "65 24.0\n",
      "66 23.0\n",
      "67 21.999999999999996\n",
      "68 21.0\n",
      "69 20.0\n",
      "70 19.0\n",
      "71 18.0\n",
      "72 17.0\n",
      "73 16.0\n",
      "74 14.999999999999998\n",
      "75 14.0\n",
      "76 13.000000000000002\n",
      "77 12.0\n",
      "78 10.999999999999998\n",
      "79 10.0\n",
      "80 9.0\n",
      "81 8.0\n",
      "82 7.0\n",
      "83 6.0\n",
      "84 5.0\n",
      "85 4.0\n",
      "86 3.0\n",
      "87 2.0\n",
      "88 1.0\n"
     ]
    }
   ],
   "source": [
    "slope_int = np.zeros([np.int(np.ceil(len(erai_T.lat[:])/2)),2])\n",
    "for i, lat in enumerate(slope_var.lat[:89]):\n",
    "    print(i,lat)\n",
    "    slope_int[i,:] = slope_var(lat=(-lat,lat)).integrate(pyg.Lat, dx=slope_var.lat(lat=(-lat,lat))*np.pi/180).squeeze()[-1,:]"
   ]
  },
  {
   "cell_type": "code",
   "execution_count": 46,
   "metadata": {},
   "outputs": [
    {
     "name": "stdout",
     "output_type": "stream",
     "text": [
      "[[-5.52157412 -4.03627066]\n",
      " [-6.64846785 -4.78395647]\n",
      " [-7.50625535 -5.38409163]\n",
      " [-8.10865472 -5.85856976]\n",
      " [-8.49757965 -6.22627305]\n",
      " [-8.72509679 -6.50912922]\n",
      " [-8.84261218 -6.7235061 ]\n",
      " [-8.89288734 -6.87940765]\n",
      " [-8.90718672 -6.98526108]\n",
      " [-8.90639836 -7.04995549]\n",
      " [-8.90275735 -7.07819519]\n",
      " [-8.90078008 -7.07107456]\n",
      " [-8.89695838 -7.02777774]\n",
      " [-8.87815143 -6.94620996]\n",
      " [-8.82201705 -6.81684731]\n",
      " [-8.69331851 -6.62068644]\n",
      " [-8.44283368 -6.33461687]\n",
      " [-8.00949045 -5.92540308]\n",
      " [-7.32637757 -5.35505096]\n",
      " [-6.33975794 -4.58907933]\n",
      " [-5.03484633 -3.60317466]]\n",
      "[[0.         0.        ]\n",
      " [0.10620365 0.076971  ]\n",
      " [0.22972691 0.16570396]\n",
      " [0.36599271 0.26381469]\n",
      " [0.51090944 0.36927484]\n",
      " [0.66120565 0.48041219]\n",
      " [0.81451283 0.59588872]\n",
      " [0.96928426 0.71459653]\n",
      " [1.12461921 0.83558859]\n",
      " [1.28007207 0.95806896]\n",
      " [1.43548627 1.08136034]\n",
      " [1.59085144 1.20483601]\n",
      " [1.74616601 1.3278717 ]\n",
      " [1.9012831  1.44981775]\n",
      " [2.05574621 1.56992308]\n",
      " [2.20859635 1.68718769]\n",
      " [2.35813749 1.80024404]\n",
      " [2.5017111  1.90723289]\n",
      " [2.6355418  2.00567343]\n",
      " [2.75480133 2.09245233]\n",
      " [2.85406348 2.16394324]]\n"
     ]
    }
   ],
   "source": [
    "lat=10\n",
    "print(slope_var(lat=(-10,10))[:])\n",
    "print(slope_var(lat=(-lat,lat)).integrate(pyg.Lat, dx=slope_var.lat(lat=(-lat,lat))*np.pi/180).squeeze()[:])"
   ]
  },
  {
   "cell_type": "code",
   "execution_count": 36,
   "metadata": {},
   "outputs": [],
   "source": [
    "slope_int_var = pyg.Var([erai_lat(lat=(0,90)), pyg.Pres([67,96])], values = np.flip(slope_int,0), name='slope int')"
   ]
  },
  {
   "cell_type": "code",
   "execution_count": 147,
   "metadata": {},
   "outputs": [
    {
     "data": {
      "application/vnd.jupyter.widget-view+json": {
       "model_id": "7da79f6e17af4b6da1d5234796e3316f",
       "version_major": 2,
       "version_minor": 0
      },
      "text/plain": [
       "Canvas(toolbar=Toolbar(toolitems=[('Home', 'Reset original view', 'home', 'home'), ('Back', 'Back to previous …"
      ]
     },
     "metadata": {},
     "output_type": "display_data"
    }
   ],
   "source": [
    "fig, axes = plt.subplots()\n",
    "ax_a = pyg.plot.AxesWrapper() \n",
    "ax_a = pyg.showvar(rvalue_var(pres=67), axes=ax_a, fig=fig, label='67 hPa')\n",
    "ax_a = pyg.showvar(rvalue_var(pres=96), axes=ax_a, fig=fig, label='96 hPa')\n",
    "\n",
    "ax_a.legend()\n",
    "ax_a.render(fig=fig)\n",
    "plt.show()\n"
   ]
  },
  {
   "cell_type": "code",
   "execution_count": 37,
   "metadata": {},
   "outputs": [
    {
     "data": {
      "application/vnd.jupyter.widget-view+json": {
       "model_id": "3b56f618418647c59056d4e9ad6933ff",
       "version_major": 2,
       "version_minor": 0
      },
      "text/plain": [
       "Canvas(toolbar=Toolbar(toolitems=[('Home', 'Reset original view', 'home', 'home'), ('Back', 'Back to previous …"
      ]
     },
     "metadata": {},
     "output_type": "display_data"
    }
   ],
   "source": [
    "fig, axes = plt.subplots()\n",
    "ax_a = pyg.plot.AxesWrapper() \n",
    "ax_a = pyg.showvar(slope_int_var(pres=67), axes=ax_a, fig=fig, label='67 hPa')\n",
    "#ax_a = pyg.showvar(rvalue_var(pres=96), axes=ax_a, fig=fig, label='96 hPa')\n",
    "\n",
    "ax_a.legend()\n",
    "ax_a.render(fig=fig)\n",
    "plt.show()\n"
   ]
  },
  {
   "cell_type": "code",
   "execution_count": null,
   "metadata": {},
   "outputs": [],
   "source": []
  }
 ],
 "metadata": {
  "kernelspec": {
   "display_name": "Python 3",
   "language": "python",
   "name": "python3"
  },
  "language_info": {
   "codemirror_mode": {
    "name": "ipython",
    "version": 3
   },
   "file_extension": ".py",
   "mimetype": "text/x-python",
   "name": "python",
   "nbconvert_exporter": "python",
   "pygments_lexer": "ipython3",
   "version": "3.6.7"
  }
 },
 "nbformat": 4,
 "nbformat_minor": 4
}
